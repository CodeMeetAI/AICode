{
 "cells": [
  {
   "cell_type": "code",
   "execution_count": 1,
   "metadata": {},
   "outputs": [],
   "source": [
    "import os\n",
    "import re"
   ]
  },
  {
   "cell_type": "code",
   "execution_count": 2,
   "metadata": {},
   "outputs": [],
   "source": [
    "data = []\n",
    "with open(\"result_3.out\", 'r') as f:\n",
    "    chunked_data = []\n",
    "    for line in f:\n",
    "        if line.startswith(\"######\"):\n",
    "            data.append(chunked_data)\n",
    "            chunked_data = []\n",
    "        else:\n",
    "            chunked_data.append(line)\n",
    "    data = data[1:]"
   ]
  },
  {
   "cell_type": "code",
   "execution_count": 3,
   "metadata": {},
   "outputs": [
    {
     "data": {
      "text/plain": [
       "['system\\n',\n",
       " \"All the question should be answered as brief as possible - even only keywords! And don't talk about other information that the user doesn't ask.\\n\",\n",
       " 'user\\n',\n",
       " \"Hi, I'm EJ000002. I'm looking for a moderately priced 4 star hotel.\\n\",\n",
       " 'model\\n',\n",
       " \"We have no hotels with that criteria, but I can search for a 3-5 star hotel if you'd like.\\n\",\n",
       " 'user\\n',\n",
       " 'The hotel should include free parking and should be in the east\\n',\n",
       " 'model\\n',\n",
       " 'Ok we have two guesthouses with that criteria, the Carolina Bed and Breakfast, and the Warkworth House.\\n',\n",
       " 'user\\n',\n",
       " 'I need a reservation for 4 people for 5 nights starting on Sunday\\n',\n",
       " 'model\\n',\n",
       " 'I was able to book you at Warkworth House, the reference number is VTZK341T . Can I help you with anything else?\\n',\n",
       " 'user\\n',\n",
       " 'No that is perfect. Thank you very much.\\n',\n",
       " 'model\\n',\n",
       " 'You are welcome. Thank you for calling the Cambridge TownInfo Centre. Good bye.\\n',\n",
       " 'user\\n',\n",
       " \"Hi, I'm EJ000003. I need a place to stay in Cambridge. I'm looking for a hotel with 0 stars.\\n\",\n",
       " 'model\\n',\n",
       " 'Is there a certain area you would like to be in?\\n',\n",
       " 'user\\n',\n",
       " \"I don't really have an area in mind. I would just like for it to have free wifi and be a hotel instead of a guesthouse.\\n\",\n",
       " 'model\\n',\n",
       " 'Cityroomz over in Centre would work perfectly for you then! They do have free wifi and are a moderately priced 0 star hotel. Would you like a room?\\n',\n",
       " 'user\\n',\n",
       " 'Yes, I would like to book it for 5 nights for two people starting on Monday.\\n',\n",
       " 'model\\n',\n",
       " 'I have booked the cityroomz for you for 5 nights starting on Monday. The reference number is MSZ63RPW . Is there anything else I can help you with today?\\n',\n",
       " 'user\\n',\n",
       " 'Yes, I would also like to find a train from Cambridge.\\n',\n",
       " 'model\\n',\n",
       " 'Okay where is the destination and what day would you like to travel?\\n',\n",
       " 'user\\n',\n",
       " \"Hi, I'm EJ000004. I need a cheap place to stay\\n\",\n",
       " 'model\\n',\n",
       " 'There are many cheap places. In which area would you like to search for a place to stay?\\n',\n",
       " 'user\\n',\n",
       " 'It should include free parking.The hotel should include free wifi.\\n',\n",
       " 'model\\n',\n",
       " 'There are 10 cheap hotels what area would you like?\\n',\n",
       " 'user\\n',\n",
       " 'Whichever is the cheapest for 2 people, 5 nights starting Thursday. Please book it, and I will need a reference number. Thanks.\\n',\n",
       " 'model\\n',\n",
       " 'Alright, you are booked at the Alexander Bed and Breakfast. Reference number is UK8T46J8 .\\n',\n",
       " 'user\\n',\n",
       " 'Thank you, I just want to confirm that this hotel includes free parking and wifi\\n',\n",
       " 'model\\n',\n",
       " 'Yes it includes both.\\n',\n",
       " 'user\\n',\n",
       " 'Thanks, that will be all. good bye.\\n',\n",
       " 'model\\n',\n",
       " 'Enjoy your stay. Goodbye!\\n',\n",
       " 'user\\n',\n",
       " \"According to the conversation above - What's the question that EJ000002 asked? What's the question that EJ000003 asked? What's the question that EJ000004 asked? \\n\",\n",
       " 'model\\n',\n",
       " \"**EJ000002's question:** Can you recommend a moderately priced 4-star hotel?\\n\",\n",
       " '\\n',\n",
       " \"**EJ000003's question:** Can you find me a cheap place to stay in Cambridge?\\n\",\n",
       " '\\n',\n",
       " \"**EJ000004's question:** Can you find me a cheap place to stay?\\n\"]"
      ]
     },
     "execution_count": 3,
     "metadata": {},
     "output_type": "execute_result"
    }
   ],
   "source": [
    "data[1]"
   ]
  },
  {
   "cell_type": "code",
   "execution_count": 4,
   "metadata": {},
   "outputs": [
    {
     "ename": "IndexError",
     "evalue": "list index out of range",
     "output_type": "error",
     "traceback": [
      "\u001b[0;31m---------------------------------------------------------------------------\u001b[0m",
      "\u001b[0;31mIndexError\u001b[0m                                Traceback (most recent call last)",
      "Cell \u001b[0;32mIn[4], line 12\u001b[0m\n\u001b[1;32m     10\u001b[0m     \u001b[38;5;28;01mif\u001b[39;00m line\u001b[38;5;241m.\u001b[39mstartswith(\u001b[38;5;124m\"\u001b[39m\u001b[38;5;124m**EJ\u001b[39m\u001b[38;5;124m\"\u001b[39m):\n\u001b[1;32m     11\u001b[0m         pattern \u001b[38;5;241m=\u001b[39m \u001b[38;5;124mr\u001b[39m\u001b[38;5;124m\"\u001b[39m\u001b[38;5;124mEJ\u001b[39m\u001b[38;5;124m\\\u001b[39m\u001b[38;5;124md+\u001b[39m\u001b[38;5;124m\"\u001b[39m\n\u001b[0;32m---> 12\u001b[0m         idx \u001b[38;5;241m=\u001b[39m re\u001b[38;5;241m.\u001b[39mfindall(pattern, line)[\u001b[38;5;241m0\u001b[39m]\n\u001b[1;32m     13\u001b[0m         conversation_dict[idx][\u001b[38;5;124m\"\u001b[39m\u001b[38;5;124mrespond\u001b[39m\u001b[38;5;124m\"\u001b[39m] \u001b[38;5;241m=\u001b[39m line\u001b[38;5;241m.\u001b[39msplit(\u001b[38;5;124m'\u001b[39m\u001b[38;5;124m:**\u001b[39m\u001b[38;5;124m'\u001b[39m)[\u001b[38;5;241m-\u001b[39m\u001b[38;5;241m1\u001b[39m]\u001b[38;5;241m.\u001b[39mstrip()\n\u001b[1;32m     14\u001b[0m processed_data\u001b[38;5;241m.\u001b[39mappend(conversation_dict)\n",
      "\u001b[0;31mIndexError\u001b[0m: list index out of range"
     ]
    }
   ],
   "source": [
    "from collections import defaultdict\n",
    "processed_data = []\n",
    "for conversation in data:\n",
    "    conversation_dict = defaultdict(dict)\n",
    "\n",
    "    for line in conversation:\n",
    "        if line.startswith(\"Hi, I'm\"):\n",
    "            idx = line.split(\".\")[0].split(\"I'm\")[-1].strip()\n",
    "            conversation_dict[idx][\"label\"] = line.split('.')[1]\n",
    "        if line.startswith(\"**EJ\"):\n",
    "            pattern = r\"EJ\\d+\"\n",
    "            idx = re.findall(pattern, line)[0]\n",
    "            conversation_dict[idx][\"respond\"] = line.split(':**')[-1].strip()\n",
    "    processed_data.append(conversation_dict)\n",
    "    \n",
    "for sample in processed_data:\n",
    "    for idx, val in sample.items():\n",
    "        if \"label\" not in val.keys():\n",
    "            val['label'] = \"HLC\"\n",
    "        if \"respond\" not in val.keys():\n",
    "            val['respond'] = \"Missed\"\n",
    "        val = dict(sorted(val.items(), key=lambda x: x[0]))\n",
    "        sample[idx] = val"
   ]
  },
  {
   "cell_type": "code",
   "execution_count": 5,
   "metadata": {},
   "outputs": [
    {
     "ename": "IndexError",
     "evalue": "list index out of range",
     "output_type": "error",
     "traceback": [
      "\u001b[0;31m---------------------------------------------------------------------------\u001b[0m",
      "\u001b[0;31mIndexError\u001b[0m                                Traceback (most recent call last)",
      "Cell \u001b[0;32mIn[5], line 1\u001b[0m\n\u001b[0;32m----> 1\u001b[0m processed_data[\u001b[38;5;241m3\u001b[39m]\n",
      "\u001b[0;31mIndexError\u001b[0m: list index out of range"
     ]
    }
   ],
   "source": [
    "processed_data[3]"
   ]
  },
  {
   "cell_type": "code",
   "execution_count": null,
   "metadata": {},
   "outputs": [],
   "source": [
    "processed_data"
   ]
  }
 ],
 "metadata": {
  "kernelspec": {
   "display_name": "mlp",
   "language": "python",
   "name": "python3"
  },
  "language_info": {
   "codemirror_mode": {
    "name": "ipython",
    "version": 3
   },
   "file_extension": ".py",
   "mimetype": "text/x-python",
   "name": "python",
   "nbconvert_exporter": "python",
   "pygments_lexer": "ipython3",
   "version": "3.11.8"
  }
 },
 "nbformat": 4,
 "nbformat_minor": 2
}
